{
 "cells": [
  {
   "cell_type": "code",
   "execution_count": 1,
   "metadata": {},
   "outputs": [],
   "source": [
    "# running annotation protocol"
   ]
  },
  {
   "cell_type": "code",
   "execution_count": 1,
   "metadata": {},
   "outputs": [],
   "source": [
    "import os\n",
    "import re\n",
    "import sys\n",
    "import csv\n",
    "import time\n",
    "import random\n",
    "import requests\n",
    "import subprocess\n",
    "from pathlib import Path"
   ]
  },
  {
   "cell_type": "code",
   "execution_count": 2,
   "metadata": {},
   "outputs": [],
   "source": [
    "base_dir = Path.cwd().parent\n",
    "data_dir = base_dir / 'data'\n",
    "\n",
    "reference_fasta_fname = data_dir / 'reference' / 'K03455.1.fasta'\n",
    "reference_gtf_fname = data_dir / 'reference' / 'K03455.1.gtf'\n",
    "\n",
    "sequence_dir = data_dir / 'sequences'\n",
    "assert sequence_dir.exists(), f\"sequence_dir does not exist: {sequence_dir}\"\n",
    "\n",
    "outdir = data_dir / 'annotation'\n",
    "outdir.mkdir(exist_ok=True)\n",
    "\n",
    "accession_list_fname = data_dir / 'complete_sequences.2022.accessions'\n",
    "summary_file =data_dir / \"download.summary.tsv\""
   ]
  },
  {
   "cell_type": "code",
   "execution_count": 3,
   "metadata": {},
   "outputs": [],
   "source": [
    "# software links\n",
    "soft_dir = base_dir / 'soft'\n",
    "vira_bin = soft_dir / 'vira'\n",
    "sam2gtf_bin = soft_dir / \"sam2gtf/target/release/sam2gtf\"\n",
    "miniprot_bin = soft_dir / 'miniprot/miniprot'"
   ]
  },
  {
   "cell_type": "code",
   "execution_count": 7,
   "metadata": {},
   "outputs": [
    {
     "name": "stdout",
     "output_type": "stream",
     "text": [
      "KU168281\n",
      "AY169812\n",
      "KU168288\n",
      "KU168296\n"
     ]
    }
   ],
   "source": [
    "# read summary tsv line by line using csv module\n",
    "with open(summary_file,\"r\") as inFP:\n",
    "    reader = csv.reader(inFP, delimiter=\"\\t\")\n",
    "    # skip header\n",
    "    next(reader)\n",
    "    for lno, (accid, fasta, gff) in enumerate(reader):\n",
    "        if accid == \"K03455\": # skip HXB2\n",
    "            continue\n",
    "        # if accid != \"AB049811\":\n",
    "        #     continue\n",
    "        # check if output file exists\n",
    "        if (outdir / accid / f\"{accid}.vira.gtf\").exists():\n",
    "            continue\n",
    "        print(accid)\n",
    "        \n",
    "        fasta = bool(fasta)\n",
    "        gff = bool(gff)\n",
    "        if not fasta:\n",
    "            print(f\"Skipping {accid} as fasta file is not available\")\n",
    "            continue\n",
    "\n",
    "        acc_outdir = outdir / accid\n",
    "        acc_outdir.mkdir(exist_ok=True)\n",
    "        output_gtf_fname = acc_outdir / f\"{accid}.vira.gtf\"\n",
    "        stdout_fname = acc_outdir / f\"{accid}.vira.stdout\"\n",
    "        stderr_fname = acc_outdir / f\"{accid}.vira.stderr\"\n",
    "        tmp_dir = acc_outdir / f\"{accid}.tmp\"\n",
    "        \n",
    "        target_fasta_fname = sequence_dir / f\"{accid}.fasta\"\n",
    "        # set guide to None if gff is False\n",
    "        guide_gtf_fname = sequence_dir / f\"{accid}.gtf\" if gff else None\n",
    "\n",
    "        os.environ['PYTHONPATH'] = str(vira_bin) + \":\" + os.environ.get('PYTHONPATH', '')\n",
    "\n",
    "        cmd = [sys.executable, '-m', 'vira',\n",
    "               \"--annotation\",str(reference_gtf_fname),\n",
    "                \"--genome\",str(reference_fasta_fname),\n",
    "                \"--target\",str(target_fasta_fname),\n",
    "                \"--output\",str(output_gtf_fname),\n",
    "                \"--sam2gtf\",str(sam2gtf_bin),\n",
    "                \"--miniprot\",str(miniprot_bin),\n",
    "                \"--guide\",str(guide_gtf_fname),\n",
    "                \"--tmp-dir\",str(tmp_dir)]\n",
    "        if guide_gtf_fname is not None:\n",
    "            cmd.extend([\"--guide\",str(guide_gtf_fname)])\n",
    "\n",
    "        try:\n",
    "            with open(stdout_fname, \"w\") as stdoutFP, open(stderr_fname, \"w\") as stderrFP:\n",
    "                result = subprocess.run(\n",
    "                    cmd,\n",
    "                    cwd=vira_bin,\n",
    "                    stdout=stdoutFP,  # Write stdout to file\n",
    "                    stderr=stderrFP   # Write stderr to file\n",
    "                )\n",
    "        except subprocess.CalledProcessError as e:\n",
    "            print(\"Error occurred:\", e)\n",
    "            print(\"Error output:\\n\", e.stderr)\n",
    "\n",
    "# move deletion up or down by 1 position, making sure there is always an M next to the N"
   ]
  },
  {
   "cell_type": "code",
   "execution_count": null,
   "metadata": {},
   "outputs": [],
   "source": []
  }
 ],
 "metadata": {
  "kernelspec": {
   "display_name": "Python 3",
   "language": "python",
   "name": "python3"
  },
  "language_info": {
   "codemirror_mode": {
    "name": "ipython",
    "version": 3
   },
   "file_extension": ".py",
   "mimetype": "text/x-python",
   "name": "python",
   "nbconvert_exporter": "python",
   "pygments_lexer": "ipython3",
   "version": "3.11.9"
  }
 },
 "nbformat": 4,
 "nbformat_minor": 2
}
