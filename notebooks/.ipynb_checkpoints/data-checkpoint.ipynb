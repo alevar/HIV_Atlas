{
 "cells": [
  {
   "cell_type": "code",
   "execution_count": null,
   "id": "f6a2b3c2-eda3-44e5-bdc8-4696407da0cb",
   "metadata": {},
   "outputs": [],
   "source": [
    "# getting data"
   ]
  },
  {
   "cell_type": "code",
   "execution_count": null,
   "id": "718969ff-b203-4cfd-8e76-d0b9155b0160",
   "metadata": {},
   "outputs": [],
   "source": [
    "import os\n",
    "import re\n",
    "import sys\n",
    "import random\n",
    "import subprocess"
   ]
  }
 ],
 "metadata": {
  "kernelspec": {
   "display_name": "Python 3 (ipykernel)",
   "language": "python",
   "name": "python3"
  },
  "language_info": {
   "codemirror_mode": {
    "name": "ipython",
    "version": 3
   },
   "file_extension": ".py",
   "mimetype": "text/x-python",
   "name": "python",
   "nbconvert_exporter": "python",
   "pygments_lexer": "ipython3",
   "version": "3.11.8"
  }
 },
 "nbformat": 4,
 "nbformat_minor": 5
}
